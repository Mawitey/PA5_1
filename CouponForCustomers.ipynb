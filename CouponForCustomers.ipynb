{
  "cells": [
    {
      "cell_type": "markdown",
      "metadata": {
        "id": "CcUT6Fon_qRE"
      },
      "source": [
        "### Required Assignment 5.1: Will the Customer Accept the Coupon?\n",
        "\n",
        "**Context**\n",
        "\n",
        "Imagine driving through town and a coupon is delivered to your cell phone for a restaurant near where you are driving. Would you accept that coupon and take a short detour to the restaurant? Would you accept the coupon but use it on a subsequent trip? Would you ignore the coupon entirely? What if the coupon was for a bar instead of a restaurant? What about a coffee house? Would you accept a bar coupon with a minor passenger in the car? What about if it was just you and your partner in the car? Would weather impact the rate of acceptance? What about the time of day?\n",
        "\n",
        "Obviously, proximity to the business is a factor on whether the coupon is delivered to the driver or not, but what are the factors that determine whether a driver accepts the coupon once it is delivered to them? How would you determine whether a driver is likely to accept a coupon?\n",
        "\n",
        "**Overview**\n",
        "\n",
        "The goal of this project is to use what you know about visualizations and probability distributions to distinguish between customers who accepted a driving coupon versus those that did not.\n",
        "\n",
        "**Data**\n",
        "\n",
        "This data comes to us from the UCI Machine Learning repository and was collected via a survey on Amazon Mechanical Turk. The survey describes different driving scenarios including the destination, current time, weather, passenger, etc., and then ask the person whether he will accept the coupon if he is the driver. Answers that the user will drive there ‘right away’ or ‘later before the coupon expires’ are labeled as ‘Y = 1’ and answers ‘no, I do not want the coupon’ are labeled as ‘Y = 0’.  There are five different types of coupons -- less expensive restaurants (under \\$20), coffee houses, carry out & take away, bar, and more expensive restaurants (\\$20 - $50)."
      ]
    },
    {
      "cell_type": "markdown",
      "metadata": {
        "id": "1wORvMBJ_qRF"
      },
      "source": [
        "**Deliverables**\n",
        "\n",
        "Your final product should be a brief report that highlights the differences between customers who did and did not accept the coupons.  To explore the data you will utilize your knowledge of plotting, statistical summaries, and visualization using Python. You will publish your findings in a public facing github repository as your first portfolio piece.\n",
        "\n",
        "\n",
        "\n"
      ]
    },
    {
      "cell_type": "markdown",
      "metadata": {
        "id": "pG6_Ym6q_qRG"
      },
      "source": [
        "### Data Description\n",
        "Keep in mind that these values mentioned below are average values.\n",
        "\n",
        "The attributes of this data set include:\n",
        "1. User attributes\n",
        "    -  Gender: male, female\n",
        "    -  Age: below 21, 21 to 25, 26 to 30, etc.\n",
        "    -  Marital Status: single, married partner, unmarried partner, or widowed\n",
        "    -  Number of children: 0, 1, or more than 1\n",
        "    -  Education: high school, bachelors degree, associates degree, or graduate degree\n",
        "    -  Occupation: architecture & engineering, business & financial, etc.\n",
        "    -  Annual income: less than \\\\$12500, \\\\$12500 - \\\\$24999, \\\\$25000 - \\\\$37499, etc.\n",
        "    -  Number of times that he/she goes to a bar: 0, less than 1, 1 to 3, 4 to 8 or greater than 8\n",
        "    -  Number of times that he/she buys takeaway food: 0, less than 1, 1 to 3, 4 to 8 or greater\n",
        "    than 8\n",
        "    -  Number of times that he/she goes to a coffee house: 0, less than 1, 1 to 3, 4 to 8 or\n",
        "    greater than 8\n",
        "    -  Number of times that he/she eats at a restaurant with average expense less than \\\\$20 per\n",
        "    person: 0, less than 1, 1 to 3, 4 to 8 or greater than 8\n",
        "    -  Number of times that he/she goes to a bar: 0, less than 1, 1 to 3, 4 to 8 or greater than 8\n",
        "    \n",
        "\n",
        "2. Contextual attributes\n",
        "    - Driving destination: home, work, or no urgent destination\n",
        "    - Location of user, coupon and destination: we provide a map to show the geographical\n",
        "    location of the user, destination, and the venue, and we mark the distance between each\n",
        "    two places with time of driving. The user can see whether the venue is in the same\n",
        "    direction as the destination.\n",
        "    - Weather: sunny, rainy, or snowy\n",
        "    - Temperature: 30F, 55F, or 80F\n",
        "    - Time: 10AM, 2PM, or 6PM\n",
        "    - Passenger: alone, partner, kid(s), or friend(s)\n",
        "\n",
        "\n",
        "3. Coupon attributes\n",
        "    - time before it expires: 2 hours or one day"
      ]
    },
    {
      "cell_type": "code",
      "execution_count": 53,
      "metadata": {
        "id": "dzNoP3o__qRG"
      },
      "outputs": [],
      "source": [
        "import matplotlib.pyplot as plt\n",
        "import seaborn as sns\n",
        "import pandas as pd\n",
        "import numpy as np"
      ]
    },
    {
      "cell_type": "markdown",
      "metadata": {
        "id": "Ct8pI1uE_qRG"
      },
      "source": [
        "### Problems\n",
        "\n",
        "Use the prompts below to get started with your data analysis.  \n",
        "\n",
        "1. Read in the `coupons.csv` file.\n",
        "\n",
        "\n"
      ]
    },
    {
      "cell_type": "code",
      "execution_count": 54,
      "metadata": {
        "id": "X0vbffYg_qRH"
      },
      "outputs": [],
      "source": [
        "data = pd.read_csv('coupons.csv')"
      ]
    },
    {
      "cell_type": "code",
      "execution_count": 55,
      "metadata": {
        "id": "TXofQ_DF_qRH",
        "outputId": "b9b21add-16e9-4588-f51d-ba40ff93e5d8",
        "colab": {
          "base_uri": "https://localhost:8080/",
          "height": 342
        }
      },
      "outputs": [
        {
          "output_type": "execute_result",
          "data": {
            "text/plain": [
              "       destination  passanger weather  temperature  time  \\\n",
              "0  No Urgent Place      Alone   Sunny           55   2PM   \n",
              "1  No Urgent Place  Friend(s)   Sunny           80  10AM   \n",
              "2  No Urgent Place  Friend(s)   Sunny           80  10AM   \n",
              "3  No Urgent Place  Friend(s)   Sunny           80   2PM   \n",
              "4  No Urgent Place  Friend(s)   Sunny           80   2PM   \n",
              "\n",
              "                  coupon expiration  gender age      maritalStatus  ...  \\\n",
              "0        Restaurant(<20)         1d  Female  21  Unmarried partner  ...   \n",
              "1           Coffee House         2h  Female  21  Unmarried partner  ...   \n",
              "2  Carry out & Take away         2h  Female  21  Unmarried partner  ...   \n",
              "3           Coffee House         2h  Female  21  Unmarried partner  ...   \n",
              "4           Coffee House         1d  Female  21  Unmarried partner  ...   \n",
              "\n",
              "   CoffeeHouse CarryAway RestaurantLessThan20 Restaurant20To50  \\\n",
              "0        never       NaN                  4~8              1~3   \n",
              "1        never       NaN                  4~8              1~3   \n",
              "2        never       NaN                  4~8              1~3   \n",
              "3        never       NaN                  4~8              1~3   \n",
              "4        never       NaN                  4~8              1~3   \n",
              "\n",
              "  toCoupon_GEQ5min toCoupon_GEQ15min toCoupon_GEQ25min direction_same  \\\n",
              "0                1                 0                 0              0   \n",
              "1                1                 0                 0              0   \n",
              "2                1                 1                 0              0   \n",
              "3                1                 1                 0              0   \n",
              "4                1                 1                 0              0   \n",
              "\n",
              "  direction_opp  Y  \n",
              "0             1  1  \n",
              "1             1  0  \n",
              "2             1  1  \n",
              "3             1  0  \n",
              "4             1  0  \n",
              "\n",
              "[5 rows x 26 columns]"
            ],
            "text/html": [
              "\n",
              "  <div id=\"df-6f96382a-2f84-4b9d-8f15-0a7636620655\" class=\"colab-df-container\">\n",
              "    <div>\n",
              "<style scoped>\n",
              "    .dataframe tbody tr th:only-of-type {\n",
              "        vertical-align: middle;\n",
              "    }\n",
              "\n",
              "    .dataframe tbody tr th {\n",
              "        vertical-align: top;\n",
              "    }\n",
              "\n",
              "    .dataframe thead th {\n",
              "        text-align: right;\n",
              "    }\n",
              "</style>\n",
              "<table border=\"1\" class=\"dataframe\">\n",
              "  <thead>\n",
              "    <tr style=\"text-align: right;\">\n",
              "      <th></th>\n",
              "      <th>destination</th>\n",
              "      <th>passanger</th>\n",
              "      <th>weather</th>\n",
              "      <th>temperature</th>\n",
              "      <th>time</th>\n",
              "      <th>coupon</th>\n",
              "      <th>expiration</th>\n",
              "      <th>gender</th>\n",
              "      <th>age</th>\n",
              "      <th>maritalStatus</th>\n",
              "      <th>...</th>\n",
              "      <th>CoffeeHouse</th>\n",
              "      <th>CarryAway</th>\n",
              "      <th>RestaurantLessThan20</th>\n",
              "      <th>Restaurant20To50</th>\n",
              "      <th>toCoupon_GEQ5min</th>\n",
              "      <th>toCoupon_GEQ15min</th>\n",
              "      <th>toCoupon_GEQ25min</th>\n",
              "      <th>direction_same</th>\n",
              "      <th>direction_opp</th>\n",
              "      <th>Y</th>\n",
              "    </tr>\n",
              "  </thead>\n",
              "  <tbody>\n",
              "    <tr>\n",
              "      <th>0</th>\n",
              "      <td>No Urgent Place</td>\n",
              "      <td>Alone</td>\n",
              "      <td>Sunny</td>\n",
              "      <td>55</td>\n",
              "      <td>2PM</td>\n",
              "      <td>Restaurant(&lt;20)</td>\n",
              "      <td>1d</td>\n",
              "      <td>Female</td>\n",
              "      <td>21</td>\n",
              "      <td>Unmarried partner</td>\n",
              "      <td>...</td>\n",
              "      <td>never</td>\n",
              "      <td>NaN</td>\n",
              "      <td>4~8</td>\n",
              "      <td>1~3</td>\n",
              "      <td>1</td>\n",
              "      <td>0</td>\n",
              "      <td>0</td>\n",
              "      <td>0</td>\n",
              "      <td>1</td>\n",
              "      <td>1</td>\n",
              "    </tr>\n",
              "    <tr>\n",
              "      <th>1</th>\n",
              "      <td>No Urgent Place</td>\n",
              "      <td>Friend(s)</td>\n",
              "      <td>Sunny</td>\n",
              "      <td>80</td>\n",
              "      <td>10AM</td>\n",
              "      <td>Coffee House</td>\n",
              "      <td>2h</td>\n",
              "      <td>Female</td>\n",
              "      <td>21</td>\n",
              "      <td>Unmarried partner</td>\n",
              "      <td>...</td>\n",
              "      <td>never</td>\n",
              "      <td>NaN</td>\n",
              "      <td>4~8</td>\n",
              "      <td>1~3</td>\n",
              "      <td>1</td>\n",
              "      <td>0</td>\n",
              "      <td>0</td>\n",
              "      <td>0</td>\n",
              "      <td>1</td>\n",
              "      <td>0</td>\n",
              "    </tr>\n",
              "    <tr>\n",
              "      <th>2</th>\n",
              "      <td>No Urgent Place</td>\n",
              "      <td>Friend(s)</td>\n",
              "      <td>Sunny</td>\n",
              "      <td>80</td>\n",
              "      <td>10AM</td>\n",
              "      <td>Carry out &amp; Take away</td>\n",
              "      <td>2h</td>\n",
              "      <td>Female</td>\n",
              "      <td>21</td>\n",
              "      <td>Unmarried partner</td>\n",
              "      <td>...</td>\n",
              "      <td>never</td>\n",
              "      <td>NaN</td>\n",
              "      <td>4~8</td>\n",
              "      <td>1~3</td>\n",
              "      <td>1</td>\n",
              "      <td>1</td>\n",
              "      <td>0</td>\n",
              "      <td>0</td>\n",
              "      <td>1</td>\n",
              "      <td>1</td>\n",
              "    </tr>\n",
              "    <tr>\n",
              "      <th>3</th>\n",
              "      <td>No Urgent Place</td>\n",
              "      <td>Friend(s)</td>\n",
              "      <td>Sunny</td>\n",
              "      <td>80</td>\n",
              "      <td>2PM</td>\n",
              "      <td>Coffee House</td>\n",
              "      <td>2h</td>\n",
              "      <td>Female</td>\n",
              "      <td>21</td>\n",
              "      <td>Unmarried partner</td>\n",
              "      <td>...</td>\n",
              "      <td>never</td>\n",
              "      <td>NaN</td>\n",
              "      <td>4~8</td>\n",
              "      <td>1~3</td>\n",
              "      <td>1</td>\n",
              "      <td>1</td>\n",
              "      <td>0</td>\n",
              "      <td>0</td>\n",
              "      <td>1</td>\n",
              "      <td>0</td>\n",
              "    </tr>\n",
              "    <tr>\n",
              "      <th>4</th>\n",
              "      <td>No Urgent Place</td>\n",
              "      <td>Friend(s)</td>\n",
              "      <td>Sunny</td>\n",
              "      <td>80</td>\n",
              "      <td>2PM</td>\n",
              "      <td>Coffee House</td>\n",
              "      <td>1d</td>\n",
              "      <td>Female</td>\n",
              "      <td>21</td>\n",
              "      <td>Unmarried partner</td>\n",
              "      <td>...</td>\n",
              "      <td>never</td>\n",
              "      <td>NaN</td>\n",
              "      <td>4~8</td>\n",
              "      <td>1~3</td>\n",
              "      <td>1</td>\n",
              "      <td>1</td>\n",
              "      <td>0</td>\n",
              "      <td>0</td>\n",
              "      <td>1</td>\n",
              "      <td>0</td>\n",
              "    </tr>\n",
              "  </tbody>\n",
              "</table>\n",
              "<p>5 rows × 26 columns</p>\n",
              "</div>\n",
              "    <div class=\"colab-df-buttons\">\n",
              "\n",
              "  <div class=\"colab-df-container\">\n",
              "    <button class=\"colab-df-convert\" onclick=\"convertToInteractive('df-6f96382a-2f84-4b9d-8f15-0a7636620655')\"\n",
              "            title=\"Convert this dataframe to an interactive table.\"\n",
              "            style=\"display:none;\">\n",
              "\n",
              "  <svg xmlns=\"http://www.w3.org/2000/svg\" height=\"24px\" viewBox=\"0 -960 960 960\">\n",
              "    <path d=\"M120-120v-720h720v720H120Zm60-500h600v-160H180v160Zm220 220h160v-160H400v160Zm0 220h160v-160H400v160ZM180-400h160v-160H180v160Zm440 0h160v-160H620v160ZM180-180h160v-160H180v160Zm440 0h160v-160H620v160Z\"/>\n",
              "  </svg>\n",
              "    </button>\n",
              "\n",
              "  <style>\n",
              "    .colab-df-container {\n",
              "      display:flex;\n",
              "      gap: 12px;\n",
              "    }\n",
              "\n",
              "    .colab-df-convert {\n",
              "      background-color: #E8F0FE;\n",
              "      border: none;\n",
              "      border-radius: 50%;\n",
              "      cursor: pointer;\n",
              "      display: none;\n",
              "      fill: #1967D2;\n",
              "      height: 32px;\n",
              "      padding: 0 0 0 0;\n",
              "      width: 32px;\n",
              "    }\n",
              "\n",
              "    .colab-df-convert:hover {\n",
              "      background-color: #E2EBFA;\n",
              "      box-shadow: 0px 1px 2px rgba(60, 64, 67, 0.3), 0px 1px 3px 1px rgba(60, 64, 67, 0.15);\n",
              "      fill: #174EA6;\n",
              "    }\n",
              "\n",
              "    .colab-df-buttons div {\n",
              "      margin-bottom: 4px;\n",
              "    }\n",
              "\n",
              "    [theme=dark] .colab-df-convert {\n",
              "      background-color: #3B4455;\n",
              "      fill: #D2E3FC;\n",
              "    }\n",
              "\n",
              "    [theme=dark] .colab-df-convert:hover {\n",
              "      background-color: #434B5C;\n",
              "      box-shadow: 0px 1px 3px 1px rgba(0, 0, 0, 0.15);\n",
              "      filter: drop-shadow(0px 1px 2px rgba(0, 0, 0, 0.3));\n",
              "      fill: #FFFFFF;\n",
              "    }\n",
              "  </style>\n",
              "\n",
              "    <script>\n",
              "      const buttonEl =\n",
              "        document.querySelector('#df-6f96382a-2f84-4b9d-8f15-0a7636620655 button.colab-df-convert');\n",
              "      buttonEl.style.display =\n",
              "        google.colab.kernel.accessAllowed ? 'block' : 'none';\n",
              "\n",
              "      async function convertToInteractive(key) {\n",
              "        const element = document.querySelector('#df-6f96382a-2f84-4b9d-8f15-0a7636620655');\n",
              "        const dataTable =\n",
              "          await google.colab.kernel.invokeFunction('convertToInteractive',\n",
              "                                                    [key], {});\n",
              "        if (!dataTable) return;\n",
              "\n",
              "        const docLinkHtml = 'Like what you see? Visit the ' +\n",
              "          '<a target=\"_blank\" href=https://colab.research.google.com/notebooks/data_table.ipynb>data table notebook</a>'\n",
              "          + ' to learn more about interactive tables.';\n",
              "        element.innerHTML = '';\n",
              "        dataTable['output_type'] = 'display_data';\n",
              "        await google.colab.output.renderOutput(dataTable, element);\n",
              "        const docLink = document.createElement('div');\n",
              "        docLink.innerHTML = docLinkHtml;\n",
              "        element.appendChild(docLink);\n",
              "      }\n",
              "    </script>\n",
              "  </div>\n",
              "\n",
              "\n",
              "    <div id=\"df-93e65964-54a3-4987-8f93-cf2b18dfbd5b\">\n",
              "      <button class=\"colab-df-quickchart\" onclick=\"quickchart('df-93e65964-54a3-4987-8f93-cf2b18dfbd5b')\"\n",
              "                title=\"Suggest charts\"\n",
              "                style=\"display:none;\">\n",
              "\n",
              "<svg xmlns=\"http://www.w3.org/2000/svg\" height=\"24px\"viewBox=\"0 0 24 24\"\n",
              "     width=\"24px\">\n",
              "    <g>\n",
              "        <path d=\"M19 3H5c-1.1 0-2 .9-2 2v14c0 1.1.9 2 2 2h14c1.1 0 2-.9 2-2V5c0-1.1-.9-2-2-2zM9 17H7v-7h2v7zm4 0h-2V7h2v10zm4 0h-2v-4h2v4z\"/>\n",
              "    </g>\n",
              "</svg>\n",
              "      </button>\n",
              "\n",
              "<style>\n",
              "  .colab-df-quickchart {\n",
              "      --bg-color: #E8F0FE;\n",
              "      --fill-color: #1967D2;\n",
              "      --hover-bg-color: #E2EBFA;\n",
              "      --hover-fill-color: #174EA6;\n",
              "      --disabled-fill-color: #AAA;\n",
              "      --disabled-bg-color: #DDD;\n",
              "  }\n",
              "\n",
              "  [theme=dark] .colab-df-quickchart {\n",
              "      --bg-color: #3B4455;\n",
              "      --fill-color: #D2E3FC;\n",
              "      --hover-bg-color: #434B5C;\n",
              "      --hover-fill-color: #FFFFFF;\n",
              "      --disabled-bg-color: #3B4455;\n",
              "      --disabled-fill-color: #666;\n",
              "  }\n",
              "\n",
              "  .colab-df-quickchart {\n",
              "    background-color: var(--bg-color);\n",
              "    border: none;\n",
              "    border-radius: 50%;\n",
              "    cursor: pointer;\n",
              "    display: none;\n",
              "    fill: var(--fill-color);\n",
              "    height: 32px;\n",
              "    padding: 0;\n",
              "    width: 32px;\n",
              "  }\n",
              "\n",
              "  .colab-df-quickchart:hover {\n",
              "    background-color: var(--hover-bg-color);\n",
              "    box-shadow: 0 1px 2px rgba(60, 64, 67, 0.3), 0 1px 3px 1px rgba(60, 64, 67, 0.15);\n",
              "    fill: var(--button-hover-fill-color);\n",
              "  }\n",
              "\n",
              "  .colab-df-quickchart-complete:disabled,\n",
              "  .colab-df-quickchart-complete:disabled:hover {\n",
              "    background-color: var(--disabled-bg-color);\n",
              "    fill: var(--disabled-fill-color);\n",
              "    box-shadow: none;\n",
              "  }\n",
              "\n",
              "  .colab-df-spinner {\n",
              "    border: 2px solid var(--fill-color);\n",
              "    border-color: transparent;\n",
              "    border-bottom-color: var(--fill-color);\n",
              "    animation:\n",
              "      spin 1s steps(1) infinite;\n",
              "  }\n",
              "\n",
              "  @keyframes spin {\n",
              "    0% {\n",
              "      border-color: transparent;\n",
              "      border-bottom-color: var(--fill-color);\n",
              "      border-left-color: var(--fill-color);\n",
              "    }\n",
              "    20% {\n",
              "      border-color: transparent;\n",
              "      border-left-color: var(--fill-color);\n",
              "      border-top-color: var(--fill-color);\n",
              "    }\n",
              "    30% {\n",
              "      border-color: transparent;\n",
              "      border-left-color: var(--fill-color);\n",
              "      border-top-color: var(--fill-color);\n",
              "      border-right-color: var(--fill-color);\n",
              "    }\n",
              "    40% {\n",
              "      border-color: transparent;\n",
              "      border-right-color: var(--fill-color);\n",
              "      border-top-color: var(--fill-color);\n",
              "    }\n",
              "    60% {\n",
              "      border-color: transparent;\n",
              "      border-right-color: var(--fill-color);\n",
              "    }\n",
              "    80% {\n",
              "      border-color: transparent;\n",
              "      border-right-color: var(--fill-color);\n",
              "      border-bottom-color: var(--fill-color);\n",
              "    }\n",
              "    90% {\n",
              "      border-color: transparent;\n",
              "      border-bottom-color: var(--fill-color);\n",
              "    }\n",
              "  }\n",
              "</style>\n",
              "\n",
              "      <script>\n",
              "        async function quickchart(key) {\n",
              "          const quickchartButtonEl =\n",
              "            document.querySelector('#' + key + ' button');\n",
              "          quickchartButtonEl.disabled = true;  // To prevent multiple clicks.\n",
              "          quickchartButtonEl.classList.add('colab-df-spinner');\n",
              "          try {\n",
              "            const charts = await google.colab.kernel.invokeFunction(\n",
              "                'suggestCharts', [key], {});\n",
              "          } catch (error) {\n",
              "            console.error('Error during call to suggestCharts:', error);\n",
              "          }\n",
              "          quickchartButtonEl.classList.remove('colab-df-spinner');\n",
              "          quickchartButtonEl.classList.add('colab-df-quickchart-complete');\n",
              "        }\n",
              "        (() => {\n",
              "          let quickchartButtonEl =\n",
              "            document.querySelector('#df-93e65964-54a3-4987-8f93-cf2b18dfbd5b button');\n",
              "          quickchartButtonEl.style.display =\n",
              "            google.colab.kernel.accessAllowed ? 'block' : 'none';\n",
              "        })();\n",
              "      </script>\n",
              "    </div>\n",
              "\n",
              "    </div>\n",
              "  </div>\n"
            ],
            "application/vnd.google.colaboratory.intrinsic+json": {
              "type": "dataframe",
              "variable_name": "data"
            }
          },
          "metadata": {},
          "execution_count": 55
        }
      ],
      "source": [
        "data.head()"
      ]
    },
    {
      "cell_type": "markdown",
      "metadata": {
        "id": "GcDs78ZH_qRH"
      },
      "source": [
        "2. Investigate the dataset for missing or problematic data."
      ]
    },
    {
      "cell_type": "code",
      "execution_count": 56,
      "metadata": {
        "id": "6CwL6oWj_qRH",
        "colab": {
          "base_uri": "https://localhost:8080/"
        },
        "outputId": "559809ae-4543-400c-f66a-6c740f087277"
      },
      "outputs": [
        {
          "output_type": "stream",
          "name": "stdout",
          "text": [
            "       destination  passanger  weather  temperature   time  coupon  \\\n",
            "0            False      False    False        False  False   False   \n",
            "1            False      False    False        False  False   False   \n",
            "2            False      False    False        False  False   False   \n",
            "3            False      False    False        False  False   False   \n",
            "4            False      False    False        False  False   False   \n",
            "...            ...        ...      ...          ...    ...     ...   \n",
            "12679        False      False    False        False  False   False   \n",
            "12680        False      False    False        False  False   False   \n",
            "12681        False      False    False        False  False   False   \n",
            "12682        False      False    False        False  False   False   \n",
            "12683        False      False    False        False  False   False   \n",
            "\n",
            "       expiration  gender    age  maritalStatus  ...  CoffeeHouse  CarryAway  \\\n",
            "0           False   False  False          False  ...        False       True   \n",
            "1           False   False  False          False  ...        False       True   \n",
            "2           False   False  False          False  ...        False       True   \n",
            "3           False   False  False          False  ...        False       True   \n",
            "4           False   False  False          False  ...        False       True   \n",
            "...           ...     ...    ...            ...  ...          ...        ...   \n",
            "12679       False   False  False          False  ...        False      False   \n",
            "12680       False   False  False          False  ...        False      False   \n",
            "12681       False   False  False          False  ...        False      False   \n",
            "12682       False   False  False          False  ...        False      False   \n",
            "12683       False   False  False          False  ...        False      False   \n",
            "\n",
            "       RestaurantLessThan20  Restaurant20To50  toCoupon_GEQ5min  \\\n",
            "0                     False             False             False   \n",
            "1                     False             False             False   \n",
            "2                     False             False             False   \n",
            "3                     False             False             False   \n",
            "4                     False             False             False   \n",
            "...                     ...               ...               ...   \n",
            "12679                 False             False             False   \n",
            "12680                 False             False             False   \n",
            "12681                 False             False             False   \n",
            "12682                 False             False             False   \n",
            "12683                 False             False             False   \n",
            "\n",
            "       toCoupon_GEQ15min  toCoupon_GEQ25min  direction_same  direction_opp  \\\n",
            "0                  False              False           False          False   \n",
            "1                  False              False           False          False   \n",
            "2                  False              False           False          False   \n",
            "3                  False              False           False          False   \n",
            "4                  False              False           False          False   \n",
            "...                  ...                ...             ...            ...   \n",
            "12679              False              False           False          False   \n",
            "12680              False              False           False          False   \n",
            "12681              False              False           False          False   \n",
            "12682              False              False           False          False   \n",
            "12683              False              False           False          False   \n",
            "\n",
            "           Y  \n",
            "0      False  \n",
            "1      False  \n",
            "2      False  \n",
            "3      False  \n",
            "4      False  \n",
            "...      ...  \n",
            "12679  False  \n",
            "12680  False  \n",
            "12681  False  \n",
            "12682  False  \n",
            "12683  False  \n",
            "\n",
            "[12684 rows x 26 columns]\n"
          ]
        }
      ],
      "source": [
        "#Missing data\n",
        "nullData = data.isnull()\n",
        "print(nullData)"
      ]
    },
    {
      "cell_type": "markdown",
      "metadata": {
        "id": "bSdVSpYB_qRH"
      },
      "source": [
        "3. Decide what to do about your missing data -- drop, replace, other..."
      ]
    },
    {
      "cell_type": "code",
      "execution_count": 57,
      "metadata": {
        "id": "tyvoAC5F_qRI"
      },
      "outputs": [],
      "source": [
        "#Dropped missing data\n",
        "dropData = nullData.dropna()"
      ]
    },
    {
      "cell_type": "markdown",
      "metadata": {
        "id": "YE6oJbXd_qRI"
      },
      "source": [
        "4. What proportion of the total observations chose to accept the coupon?\n",
        "\n"
      ]
    },
    {
      "cell_type": "code",
      "execution_count": 58,
      "metadata": {
        "id": "86GGqBTv_qRI",
        "colab": {
          "base_uri": "https://localhost:8080/"
        },
        "outputId": "16197af3-2963-4473-d3ef-decd6179c950"
      },
      "outputs": [
        {
          "output_type": "stream",
          "name": "stdout",
          "text": [
            "0.5684326710816777\n"
          ]
        }
      ],
      "source": [
        "#Total population\n",
        "total = data['Y'].count()\n",
        "\n",
        "#Drivers who accepted the coupon\n",
        "acceptedTotal = data.loc[data['Y'] == 1].shape[0]\n",
        "print(acceptedTotal/total)"
      ]
    },
    {
      "cell_type": "markdown",
      "metadata": {
        "id": "vflz0DoE_qRI"
      },
      "source": [
        "5. Use a bar plot to visualize the `coupon` column."
      ]
    },
    {
      "cell_type": "code",
      "execution_count": 79,
      "metadata": {
        "id": "dHFh3E45_qRI",
        "colab": {
          "base_uri": "https://localhost:8080/",
          "height": 632
        },
        "outputId": "24d81b51-14f7-4c29-e85d-994c01ac24e6"
      },
      "outputs": [
        {
          "output_type": "execute_result",
          "data": {
            "text/plain": [
              "<Axes: title={'center': 'Coupon For Customer'}, xlabel='Coupon', ylabel='Count'>"
            ]
          },
          "metadata": {},
          "execution_count": 79
        },
        {
          "output_type": "display_data",
          "data": {
            "text/plain": [
              "<Figure size 640x480 with 1 Axes>"
            ],
            "image/png": "[encoded data removed]"
          },
          "metadata": {}
        }
      ],
      "source": [
        "data['coupon'].value_counts().plot(kind='bar', title=\"Coupon For Customer\", xlabel=\"Coupon\", ylabel=\"Count\")\n"
      ]
    },
    {
      "cell_type": "markdown",
      "metadata": {
        "id": "Qw4lCyx2_qRI"
      },
      "source": [
        "6. Use a histogram to visualize the temperature column."
      ]
    },
    {
      "cell_type": "code",
      "execution_count": 80,
      "metadata": {
        "id": "Yg9Anv71_qRI",
        "colab": {
          "base_uri": "https://localhost:8080/",
          "height": 472
        },
        "outputId": "82b3f3b5-0149-4c2a-f4c3-cab7bc291552"
      },
      "outputs": [
        {
          "output_type": "display_data",
          "data": {
            "text/plain": [
              "<Figure size 640x480 with 1 Axes>"
            ],
            "image/png": "[encoded data removed]"
          },
          "metadata": {}
        }
      ],
      "source": [
        "hist = data['temperature'].hist()\n",
        "plt.title('Measure of Temperature')\n",
        "plt.xlabel('Temperature')\n",
        "plt.ylabel('Frequency')\n",
        "# Display the histogram\n",
        "plt.show()"
      ]
    },
    {
      "cell_type": "code",
      "execution_count": null,
      "metadata": {
        "id": "zLtOaJQk_qRI"
      },
      "outputs": [],
      "source": []
    },
    {
      "cell_type": "code",
      "execution_count": null,
      "metadata": {
        "id": "7GBHZKBp_qRJ"
      },
      "outputs": [],
      "source": []
    },
    {
      "cell_type": "code",
      "execution_count": null,
      "metadata": {
        "id": "Y5nBUA-j_qRJ"
      },
      "outputs": [],
      "source": []
    },
    {
      "cell_type": "code",
      "execution_count": null,
      "metadata": {
        "id": "ShcUC-Vm_qRJ"
      },
      "outputs": [],
      "source": []
    },
    {
      "cell_type": "markdown",
      "metadata": {
        "id": "FupfgeJk_qRJ"
      },
      "source": [
        "**Investigating the Bar Coupons**\n",
        "\n",
        "Now, we will lead you through an exploration of just the bar related coupons.  \n",
        "\n",
        "1. Create a new `DataFrame` that contains just the bar coupons.\n"
      ]
    },
    {
      "cell_type": "code",
      "execution_count": 61,
      "metadata": {
        "id": "tMBlWuGq_qRJ",
        "colab": {
          "base_uri": "https://localhost:8080/"
        },
        "outputId": "fb82c3d5-b44e-49bd-c10f-1151931b723b"
      },
      "outputs": [
        {
          "output_type": "stream",
          "name": "stdout",
          "text": [
            "           destination  passanger weather  temperature  time coupon  \\\n",
            "9      No Urgent Place     Kid(s)   Sunny           80  10AM    Bar   \n",
            "13                Home      Alone   Sunny           55   6PM    Bar   \n",
            "17                Work      Alone   Sunny           55   7AM    Bar   \n",
            "24     No Urgent Place  Friend(s)   Sunny           80  10AM    Bar   \n",
            "35                Home      Alone   Sunny           55   6PM    Bar   \n",
            "...                ...        ...     ...          ...   ...    ...   \n",
            "12663  No Urgent Place  Friend(s)   Sunny           80  10PM    Bar   \n",
            "12664  No Urgent Place  Friend(s)   Sunny           55  10PM    Bar   \n",
            "12667  No Urgent Place      Alone   Rainy           55  10AM    Bar   \n",
            "12670  No Urgent Place    Partner   Rainy           55   6PM    Bar   \n",
            "12682             Work      Alone   Snowy           30   7AM    Bar   \n",
            "\n",
            "      expiration  gender age      maritalStatus  ...  CoffeeHouse CarryAway  \\\n",
            "9             1d  Female  21  Unmarried partner  ...        never       NaN   \n",
            "13            1d  Female  21  Unmarried partner  ...        never       NaN   \n",
            "17            1d  Female  21  Unmarried partner  ...        never       NaN   \n",
            "24            1d    Male  21             Single  ...        less1       4~8   \n",
            "35            1d    Male  21             Single  ...        less1       4~8   \n",
            "...          ...     ...  ..                ...  ...          ...       ...   \n",
            "12663         1d    Male  26             Single  ...        never       1~3   \n",
            "12664         2h    Male  26             Single  ...        never       1~3   \n",
            "12667         1d    Male  26             Single  ...        never       1~3   \n",
            "12670         2h    Male  26             Single  ...        never       1~3   \n",
            "12682         1d    Male  26             Single  ...        never       1~3   \n",
            "\n",
            "      RestaurantLessThan20 Restaurant20To50 toCoupon_GEQ5min  \\\n",
            "9                      4~8              1~3                1   \n",
            "13                     4~8              1~3                1   \n",
            "17                     4~8              1~3                1   \n",
            "24                     4~8            less1                1   \n",
            "35                     4~8            less1                1   \n",
            "...                    ...              ...              ...   \n",
            "12663                  4~8              1~3                1   \n",
            "12664                  4~8              1~3                1   \n",
            "12667                  4~8              1~3                1   \n",
            "12670                  4~8              1~3                1   \n",
            "12682                  4~8              1~3                1   \n",
            "\n",
            "      toCoupon_GEQ15min toCoupon_GEQ25min direction_same direction_opp  Y  \n",
            "9                     1                 0              0             1  0  \n",
            "13                    0                 0              1             0  1  \n",
            "17                    1                 1              0             1  0  \n",
            "24                    0                 0              0             1  1  \n",
            "35                    0                 0              1             0  1  \n",
            "...                 ...               ...            ...           ... ..  \n",
            "12663                 1                 0              0             1  0  \n",
            "12664                 1                 0              0             1  0  \n",
            "12667                 1                 0              0             1  0  \n",
            "12670                 1                 0              0             1  0  \n",
            "12682                 1                 1              0             1  0  \n",
            "\n",
            "[2017 rows x 26 columns]\n"
          ]
        }
      ],
      "source": [
        "#DataFrame for bar coupons.\n",
        "couponsBar = data[data['coupon'] == 'Bar']\n",
        "print(couponsBar)"
      ]
    },
    {
      "cell_type": "markdown",
      "metadata": {
        "id": "8ue6uCqf_qRJ"
      },
      "source": [
        "2. What proportion of bar coupons were accepted?\n"
      ]
    },
    {
      "cell_type": "code",
      "execution_count": 70,
      "metadata": {
        "id": "hSdte8Mi_qRK",
        "colab": {
          "base_uri": "https://localhost:8080/"
        },
        "outputId": "fb25c386-b85c-41ff-bef6-2441de25da8f"
      },
      "outputs": [
        {
          "output_type": "stream",
          "name": "stdout",
          "text": [
            "0.41001487357461575\n"
          ]
        }
      ],
      "source": [
        "#Acceptance rate of drivers who accepted the coupons for bar\n",
        "acceptedBarCoupons = (couponsBar['Y'] == 1).mean()\n",
        "\n",
        "print(acceptedBarCoupons)"
      ]
    },
    {
      "cell_type": "markdown",
      "metadata": {
        "id": "85nA_iEi_qRK"
      },
      "source": [
        "3. Compare the acceptance rate between those who went to a bar 3 or fewer times a month to those who went more.\n"
      ]
    },
    {
      "cell_type": "code",
      "execution_count": 75,
      "metadata": {
        "id": "LBOrN-XM_qRK",
        "colab": {
          "base_uri": "https://localhost:8080/"
        },
        "outputId": "33887a8d-e314-432a-b6da-4606e2395b1a"
      },
      "outputs": [
        {
          "output_type": "stream",
          "name": "stdout",
          "text": [
            "0.37061769616026713 0.7688442211055276\n"
          ]
        }
      ],
      "source": [
        "#Acceptance rate of drivers who went to a bar 3 or less times in a month who accepted the coupons\n",
        "acceptanceRateBarVisitOneToThree = (couponsBar[(couponsBar.Bar == '1~3') | (couponsBar.Bar == 'less1') | (couponsBar.Bar == 'never')]['Y'] == 1).mean()\n",
        "\n",
        "\n",
        "\n",
        "#Acceptance rate of drivers who went to a bar more than 3 times in a month who accepted the coupons\n",
        "acceptanceRateBarVisitMoreThanFour = (couponsBar[(couponsBar.Bar == '4~8') | (couponsBar.Bar == 'gt8')]['Y'] == 1).mean()\n",
        "\n",
        "\n",
        "print(acceptanceRateBarVisitOneToThree, acceptanceRateBarVisitMoreThanFour)"
      ]
    },
    {
      "cell_type": "markdown",
      "metadata": {
        "id": "RBgcQwH4_qRK"
      },
      "source": [
        "4. Compare the acceptance rate between drivers who go to a bar more than once a month and are over the age of 25 to the all others.  Is there a difference?\n"
      ]
    },
    {
      "cell_type": "code",
      "execution_count": 76,
      "metadata": {
        "id": "bf28bbeX_qRK",
        "colab": {
          "base_uri": "https://localhost:8080/"
        },
        "outputId": "f7569bd6-f5a9-43ab-82a3-d85e0251a47b"
      },
      "outputs": [
        {
          "output_type": "stream",
          "name": "stdout",
          "text": [
            "0.6883720930232559 0.41001487357461575\n"
          ]
        }
      ],
      "source": [
        "#Acceptance rate of drivers who go to bar more than 1 and are over the age of 25.\n",
        "acceptanceRateBarVisitMoreThanOnceAndOver25 = (couponsBar[((couponsBar.Bar == '1~3') | (couponsBar.Bar == '4~8') | (couponsBar.Bar == 'gt8')) & (couponsBar.age > '25')]['Y'] == 1).mean()\n",
        "\n",
        "\n",
        "print(acceptanceRateBarVisitMoreThanOnceAndOver25, acceptedBarCoupons) #Yes there is difference between drivers who goes to bar more than once and all others\n"
      ]
    },
    {
      "cell_type": "markdown",
      "metadata": {
        "id": "S4RKT4PJ_qRK"
      },
      "source": [
        "5. Use the same process to compare the acceptance rate between drivers who go to bars more than once a month and had passengers that were not a kid and had occupations other than farming, fishing, or forestry.\n"
      ]
    },
    {
      "cell_type": "code",
      "execution_count": 77,
      "metadata": {
        "id": "sENaI2Tg_qRK",
        "colab": {
          "base_uri": "https://localhost:8080/"
        },
        "outputId": "b0b3f950-95e8-4c35-fc46-52a03d80d414"
      },
      "outputs": [
        {
          "output_type": "stream",
          "name": "stdout",
          "text": [
            "0.6879194630872483 0.41001487357461575\n"
          ]
        }
      ],
      "source": [
        "#Acceptance rate of drivers who goes to bar more than once and had passengers that were not kid and occupation other than farming, fishing or forestry.\n",
        "\n",
        "acceptanceRateMoreThanFourBarVisitPassangersNotKid = (couponsBar[((couponsBar.Bar == '1~3') | (couponsBar.Bar == '4~8') | (couponsBar.Bar == 'gt8')) & (couponsBar.passanger != ('Alone', 'Kid(s)')) & (couponsBar.occupation != ('farming', 'fishing', 'forestry'))]['Y'] == 1).mean()\n",
        "\n",
        "\n",
        "print(acceptanceRateMoreThanFourBarVisitPassangersNotKid, acceptedBarCoupons)"
      ]
    },
    {
      "cell_type": "markdown",
      "metadata": {
        "id": "n2LIUTil_qRK"
      },
      "source": [
        "6. Compare the acceptance rates between those drivers who:\n",
        "\n",
        "- go to bars more than once a month, had passengers that were not a kid, and were not widowed *OR*\n",
        "- go to bars more than once a month and are under the age of 30 *OR*\n",
        "- go to cheap restaurants more than 4 times a month and income is less than 50K.\n",
        "\n"
      ]
    },
    {
      "cell_type": "code",
      "execution_count": 78,
      "metadata": {
        "id": "aK_wEzx7_qRK",
        "colab": {
          "base_uri": "https://localhost:8080/"
        },
        "outputId": "d2bf28bc-89ae-4c87-f7a4-bff0d6a60dae"
      },
      "outputs": [
        {
          "output_type": "stream",
          "name": "stdout",
          "text": [
            "0.6879194630872483 0.7313432835820896 0.4331864904552129\n"
          ]
        }
      ],
      "source": [
        "#Acceptance rate of drivers who goes to bar more than once a month and had passengers that were not a kid, and were not widowed\n",
        "acceptanceMoreThanOnceBarVisitPassangersNotKidNotWidowed = (couponsBar[((couponsBar.Bar == '1~3') | (couponsBar.Bar == '4~8') | (couponsBar.Bar == 'gt8')) & (couponsBar.passanger != ('Alone', 'Kid(s)')) & (couponsBar.maritalStatus != ('widowed'))]['Y'] == 1).mean()\n",
        "\n",
        "\n",
        "#Acceptance rate of drivers who goes to bar more than once a month and are under the age 30.\n",
        "acceptanceMoreThanOnceBarVisitAndUnder30 = (couponsBar[((couponsBar.Bar == '1~3') | (couponsBar.Bar == '4~8') | (couponsBar.Bar == 'gt8')) & (couponsBar.age < '30')].Y == 1).mean()\n",
        "\n",
        "#Acceptance rate of drivers who goes to cheap restaurants more than 4 times a month and income is less than 50K\n",
        "acceptanceCheapRestaurantMoreThanFourTimesIncomeLessThan50 = (couponsBar[((couponsBar.RestaurantLessThan20 == '4~8') | (couponsBar.RestaurantLessThan20 == 'gt8')) & (couponsBar.income < '50000')]['Y'] == 1).mean()\n",
        "\n",
        "\n",
        "\n",
        "print(acceptanceMoreThanOnceBarVisitPassangersNotKidNotWidowed, acceptanceMoreThanOnceBarVisitAndUnder30, acceptanceCheapRestaurantMoreThanFourTimesIncomeLessThan50)"
      ]
    },
    {
      "cell_type": "markdown",
      "metadata": {
        "id": "v3fL3QkO_qRK"
      },
      "source": [
        "7.  Based on these observations, what do you hypothesize about drivers who accepted the bar coupons?"
      ]
    },
    {
      "cell_type": "code",
      "execution_count": null,
      "metadata": {
        "id": "Y48naDFh_qRL"
      },
      "outputs": [],
      "source": [
        "Close to half of the drivers who get the coupon accept it\n",
        "When comparing those who went to bar 3 or fewer times to those who went more those who went more accept more coupons\n",
        "Those who went to bar more than onces and are over the age of 25 has 68.8%\n",
        "Those who went to bar more than once a month and had passengers that were not kid and had occupations other than farming, fishing, or forestry had 68.8%\n",
        "\n",
        "Those who go to bars more than once a month, had passengers that were not a kid, and were not widowed had 68.8%, but those who go to bars more than once a month and are under the age of 30 had 73%\n",
        "acceptance rate for those who go to cheap restaurants more than 4 times a month and income is less than 50K had 43%\n",
        "\n",
        "\n"
      ]
    },
    {
      "cell_type": "markdown",
      "metadata": {
        "id": "r4Hu1zOb_qRL"
      },
      "source": [
        "### Independent Investigation\n",
        "\n",
        "Using the bar coupon example as motivation, you are to explore one of the other coupon groups and try to determine the characteristics of passengers who accept the coupons.  "
      ]
    },
    {
      "cell_type": "code",
      "execution_count": null,
      "metadata": {
        "id": "0c71cQhu_qRL",
        "colab": {
          "base_uri": "https://localhost:8080/"
        },
        "outputId": "c2754a3f-c34d-40b0-cbfe-f288650aaf20"
      },
      "outputs": [
        {
          "output_type": "stream",
          "name": "stdout",
          "text": [
            "           destination  passanger weather  temperature  time        coupon  \\\n",
            "1      No Urgent Place  Friend(s)   Sunny           80  10AM  Coffee House   \n",
            "3      No Urgent Place  Friend(s)   Sunny           80   2PM  Coffee House   \n",
            "4      No Urgent Place  Friend(s)   Sunny           80   2PM  Coffee House   \n",
            "12     No Urgent Place     Kid(s)   Sunny           55   6PM  Coffee House   \n",
            "23     No Urgent Place  Friend(s)   Sunny           80  10AM  Coffee House   \n",
            "...                ...        ...     ...          ...   ...           ...   \n",
            "10708  No Urgent Place     Kid(s)   Sunny           80   2PM  Coffee House   \n",
            "10724  No Urgent Place  Friend(s)   Sunny           80  10PM  Coffee House   \n",
            "10741  No Urgent Place  Friend(s)   Sunny           80  10PM  Coffee House   \n",
            "10755  No Urgent Place  Friend(s)   Sunny           80  10PM  Coffee House   \n",
            "10769             Home    Partner   Rainy           55   6PM  Coffee House   \n",
            "\n",
            "      expiration  gender age      maritalStatus  ...  CoffeeHouse CarryAway  \\\n",
            "1             2h  Female  21  Unmarried partner  ...        never       NaN   \n",
            "3             2h  Female  21  Unmarried partner  ...        never       NaN   \n",
            "4             1d  Female  21  Unmarried partner  ...        never       NaN   \n",
            "12            2h  Female  21  Unmarried partner  ...        never       NaN   \n",
            "23            2h    Male  21             Single  ...        less1       4~8   \n",
            "...          ...     ...  ..                ...  ...          ...       ...   \n",
            "10708         1d  Female  41             Single  ...        less1       1~3   \n",
            "10724         1d  Female  21    Married partner  ...        less1       1~3   \n",
            "10741         1d  Female  41    Married partner  ...          gt8       4~8   \n",
            "10755         1d  Female  31  Unmarried partner  ...          1~3     less1   \n",
            "10769         1d  Female  31  Unmarried partner  ...          1~3     less1   \n",
            "\n",
            "      RestaurantLessThan20 Restaurant20To50 toCoupon_GEQ5min  \\\n",
            "1                      4~8              1~3                1   \n",
            "3                      4~8              1~3                1   \n",
            "4                      4~8              1~3                1   \n",
            "12                     4~8              1~3                1   \n",
            "23                     4~8            less1                1   \n",
            "...                    ...              ...              ...   \n",
            "10708                  1~3            less1                1   \n",
            "10724                  1~3            never                1   \n",
            "10741                  4~8              4~8                1   \n",
            "10755                  1~3            less1                1   \n",
            "10769                  1~3            less1                1   \n",
            "\n",
            "      toCoupon_GEQ15min toCoupon_GEQ25min direction_same direction_opp  Y  \n",
            "1                     0                 0              0             1  0  \n",
            "3                     1                 0              0             1  0  \n",
            "4                     1                 0              0             1  0  \n",
            "12                    1                 0              0             1  1  \n",
            "23                    0                 0              0             1  0  \n",
            "...                 ...               ...            ...           ... ..  \n",
            "10708                 0                 0              0             1  0  \n",
            "10724                 1                 0              0             1  1  \n",
            "10741                 1                 0              0             1  1  \n",
            "10755                 1                 0              0             1  0  \n",
            "10769                 0                 0              1             0  1  \n",
            "\n",
            "[1740 rows x 26 columns]\n"
          ]
        }
      ],
      "source": [
        "couponsCoffeeHouse = data[data['coupon'] == 'Coffee House']\n",
        "driveresWithPassangersCoffeeHouse = couponsCoffeeHouse[couponsCoffeeHouse.passanger != 'Alone']\n",
        "print(driveresWithPassangersCoffeeHouse)"
      ]
    },
    {
      "cell_type": "code",
      "execution_count": null,
      "metadata": {
        "id": "QEsBkvIN_qRL"
      },
      "outputs": [],
      "source": []
    },
    {
      "cell_type": "code",
      "execution_count": null,
      "metadata": {
        "id": "fTC2WGE3_qRL"
      },
      "outputs": [],
      "source": []
    },
    {
      "cell_type": "code",
      "execution_count": null,
      "metadata": {
        "id": "RrqUWn7d_qRL"
      },
      "outputs": [],
      "source": []
    },
    {
      "cell_type": "code",
      "execution_count": null,
      "metadata": {
        "id": "_oykf8YP_qRL"
      },
      "outputs": [],
      "source": []
    }
  ],
  "metadata": {
    "kernelspec": {
      "display_name": "Python 3 (ipykernel)",
      "language": "python",
      "name": "python3"
    },
    "language_info": {
      "codemirror_mode": {
        "name": "ipython",
        "version": 3
      },
      "file_extension": ".py",
      "mimetype": "text/x-python",
      "name": "python",
      "nbconvert_exporter": "python",
      "pygments_lexer": "ipython3",
      "version": "3.12.1"
    },
    "colab": {
      "provenance": []
    }
  },
  "nbformat": 4,
  "nbformat_minor": 0
}